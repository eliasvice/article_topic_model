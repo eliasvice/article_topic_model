{
 "cells": [
  {
   "cell_type": "markdown",
   "metadata": {},
   "source": [
    "# Vice Articles Topic Model"
   ]
  },
  {
   "cell_type": "markdown",
   "metadata": {},
   "source": [
    "#### Supervised Text classification model"
   ]
  },
  {
   "cell_type": "code",
   "execution_count": 79,
   "metadata": {},
   "outputs": [],
   "source": [
    "from keras.preprocessing.text import Tokenizer\n",
    "from keras.preprocessing.sequence import pad_sequences\n",
    "import keras, numpy as np\n",
    "from keras.layers import Embedding, Dense, LSTM, GRU\n",
    "from keras.models import Sequential\n",
    "import pandas as pd\n",
    "from sklearn.model_selection import train_test_split, StratifiedShuffleSplit"
   ]
  },
  {
   "cell_type": "markdown",
   "metadata": {},
   "source": [
    "_A small sample dataset to train and test the model_"
   ]
  },
  {
   "cell_type": "code",
   "execution_count": 129,
   "metadata": {},
   "outputs": [],
   "source": [
    "data_loc = \"./data/articles_sample.csv\"\n",
    "data = pd.read_csv(data_loc, sep='|', engine='python', names=['article_id','body', 'topic'])\n",
    "# data.columns = ['article_id', 'url_fragment', 'first_published', 'body', 'topic']\n",
    "data = data[~data.body.isnull()]"
   ]
  },
  {
   "cell_type": "code",
   "execution_count": 130,
   "metadata": {},
   "outputs": [
    {
     "data": {
      "text/plain": [
       "Index(['article_id', 'body', 'topic'], dtype='object')"
      ]
     },
     "execution_count": 130,
     "metadata": {},
     "output_type": "execute_result"
    }
   ],
   "source": [
    "nb_words = 200000\n",
    "max_seq_len = 1000\n",
    "data.columns"
   ]
  },
  {
   "cell_type": "code",
   "execution_count": 105,
   "metadata": {},
   "outputs": [],
   "source": [
    "# train_size = int(np.floor(data.shape[0] * .8))\n",
    "\n",
    "\n",
    "# train_x = data[\"body\"][0:train_size]\n",
    "# train_y = data[\"topic\"][0:train_size]\n",
    "\n",
    "# test_x = data[\"body\"][train_size:]\n",
    "# test_y = data[\"topic\"][train_size:]\n"
   ]
  },
  {
   "cell_type": "code",
   "execution_count": 132,
   "metadata": {},
   "outputs": [
    {
     "data": {
      "text/plain": [
       "((1946,), (1946,), (387,), (387,))"
      ]
     },
     "execution_count": 132,
     "metadata": {},
     "output_type": "execute_result"
    }
   ],
   "source": [
    "# train_x.shape, train_y.shape, test_x.shape, test_y.shape"
   ]
  },
  {
   "cell_type": "code",
   "execution_count": 144,
   "metadata": {},
   "outputs": [],
   "source": [
    "X = data[\"body\"]\n",
    "y = data[\"topic\"]"
   ]
  },
  {
   "cell_type": "code",
   "execution_count": 145,
   "metadata": {},
   "outputs": [
    {
     "data": {
      "text/plain": [
       "(607, 581)"
      ]
     },
     "execution_count": 145,
     "metadata": {},
     "output_type": "execute_result"
    }
   ],
   "source": [
    "topics = list(y.unique())\n",
    "y_encoded = [topics.index(topic) for topic in y] \n",
    "\n",
    "n_classes = len(topics)\n",
    "n_classes, sum(train_y.value_counts() <= 10)"
   ]
  },
  {
   "cell_type": "markdown",
   "metadata": {},
   "source": [
    "Preparing the data for the model\n",
    "* Tokenizing the text - Identifying unique words, creating a dictionary and counting their frequency in the list of documents (texts) in the training data.\n",
    "* One-hot encoding the labels (topics)\n",
    "* Splitting the data into train and test(validation) sets"
   ]
  },
  {
   "cell_type": "code",
   "execution_count": 147,
   "metadata": {},
   "outputs": [],
   "source": [
    "tokenizer = Tokenizer(num_words=nb_words)\n",
    "tokenizer.fit_on_texts(X)\n",
    "sequences = Tokenizer.texts_to_sequences(tokenizer, X)\n",
    "word_index = tokenizer.word_index\n",
    "\n",
    "ydata = keras.utils.to_categorical(y_encoded)\n",
    "input_data = pad_sequences(sequences, maxlen=max_seq_len)\n",
    "\n",
    "Xtrain, Xvalid, ytrain, yvalid = train_test_split(input_data, ydata, test_size=0.2)"
   ]
  },
  {
   "cell_type": "markdown",
   "metadata": {},
   "source": [
    "_Model definition and training_"
   ]
  },
  {
   "cell_type": "code",
   "execution_count": 150,
   "metadata": {},
   "outputs": [
    {
     "name": "stdout",
     "output_type": "stream",
     "text": [
      "_________________________________________________________________\n",
      "Layer (type)                 Output Shape              Param #   \n",
      "=================================================================\n",
      "embedding_9 (Embedding)      (None, 1000, 128)         8911872   \n",
      "_________________________________________________________________\n",
      "lstm_9 (LSTM)                (None, 200)               263200    \n",
      "_________________________________________________________________\n",
      "dense_9 (Dense)              (None, 607)               122007    \n",
      "=================================================================\n",
      "Total params: 9,297,079\n",
      "Trainable params: 9,297,079\n",
      "Non-trainable params: 0\n",
      "_________________________________________________________________\n",
      "None\n"
     ]
    }
   ],
   "source": [
    "embedding_vector_length = 128\n",
    "model = Sequential()\n",
    "model.add(Embedding(len(word_index)+1, embedding_vector_length, input_length=max_seq_len, embeddings_initializer='glorot_normal', \n",
    "                    embeddings_regularizer=keras.regularizers.l2(0.01)))\n",
    "model.add(LSTM(200))\n",
    "model.add(Dense(n_classes, activation='softmax'))\n",
    "model.compile(loss='categorical_crossentropy', optimizer='adam', metrics=['categorical_accuracy'])\n",
    "print(model.summary())"
   ]
  },
  {
   "cell_type": "code",
   "execution_count": 151,
   "metadata": {
    "scrolled": true
   },
   "outputs": [
    {
     "name": "stderr",
     "output_type": "stream",
     "text": [
      "/Users/eliashussen/.pyenv/versions/3.6.3/envs/deep/lib/python3.6/site-packages/keras/models.py:981: UserWarning: The `nb_epoch` argument in `fit` has been renamed `epochs`.\n",
      "  warnings.warn('The `nb_epoch` argument in `fit` '\n"
     ]
    },
    {
     "name": "stdout",
     "output_type": "stream",
     "text": [
      "Train on 1556 samples, validate on 390 samples\n",
      "Epoch 1/3\n",
      "1556/1556 [==============================] - 43s 28ms/step - loss: 6.9102 - categorical_accuracy: 0.0296 - val_loss: 6.2942 - val_categorical_accuracy: 0.0282\n",
      "Epoch 2/3\n",
      "1556/1556 [==============================] - 42s 27ms/step - loss: 6.0919 - categorical_accuracy: 0.0495 - val_loss: 6.2302 - val_categorical_accuracy: 0.0590\n",
      "Epoch 3/3\n",
      "1556/1556 [==============================] - 43s 27ms/step - loss: 5.8566 - categorical_accuracy: 0.0533 - val_loss: 6.3258 - val_categorical_accuracy: 0.0590\n"
     ]
    },
    {
     "data": {
      "text/plain": [
       "<keras.callbacks.History at 0x115914470>"
      ]
     },
     "execution_count": 151,
     "metadata": {},
     "output_type": "execute_result"
    }
   ],
   "source": [
    "model.fit(Xtrain, ytrain, validation_data=(Xvalid, yvalid), nb_epoch=3, batch_size=128)"
   ]
  },
  {
   "cell_type": "code",
   "execution_count": 116,
   "metadata": {},
   "outputs": [],
   "source": [
    "example = (\"\"\"Why Some Rappers Just Aren't Good Live True fact: lots of successful rappers don't need a great live show to get where they are. Let them live! Danny Brown, who is a good live rapper, performs live.It doesn't take long for the average person to develop a healthy skepticism of rap shows. Aside from the usual live venue problems (guest list confusion, aggro bouncers, expensive drinks), rap has its own special set of bullshit. There are too many opening acts, a rotating list of five local struggle rappers who never graduate to headliner status. There are too many people and it's always mostly dudes who often feel a way about you breathing their air. The shows run hours behind schedule. If you make it that far, the headliner is often not very good. If they even know all their lyrics, they're spitting them on top of their own recorded vocals.It's that last sin, rappers not really even rapping, that seems to offend the most. And it's not just dillettante hip-hop fans who complain; it's something I hear all the time as a reason why my friends don't want to go see a rapper whose music they love perform their songs in real life. It's less of a concert and more of a spectacle.So why does this happen? Why do some rappers seem to phone in their live shows? It's not like live hip-hop is dead. After all, active showmen like Action Bronson and Danny Brown have clearly benefitted from the work they put into their stage presence. Why don't all rappers do the same thing? The short answer is you can become a famous rapper without doing very many shows, per se.The assumed path to success for musicians today involves recording music, booking to play your music and building a fan base that will buy your music and see your shows. Increasingly, convincing brand managers that your music will sell products, but that's part of the same performance-heavy equation. And this is proven method across genres: rock, country, disco and, yeah, even rap.But rappers often take an alternate path, one that relies way less on stagework. Instead of recording an album and hustling a live show, they pick one song and push it to as many DJ's as they can. If the record is good, it gets added to the rotation on the local radio station and in the clubs around the way. And if the record is really good (and if they have good people behind you), it will get added to more stations and played at more clubs, further and further from the local market.As the single gets momentum and their name gets out there, promoters far and wide will book them to perform at clubs. But this isn't a full show, it's a quick set at a club based around a hit record. If the song is really popular, the artist's presence is just gravy. Everybody will know all the words and the club would have gone off whether or not they were there. Nobody's worried about the rapper nailing the hook.A rapper with a big single can make an insane amount of money doing club sets. Rappers are fitting into a nightlife culture that relies on paying a diverse range of celebrities to show up as a way to entice people to come out; they can earn their money just by being in the building. And everything resembling a metropolitan area has a nightlife destination where a rapper might get booked if their record is getting spins. There are way fewer ideal places for full-fledged rap shows, and that number gets smaller after factoring in many venues' inherent biases against hip-hop events. An artist that can get a stack for a club appearance in, say, Albany, GA is not stressed about their stage presence and breath control.All this said, should we even expect old school showmanship and rappin-ass rappin from these dudes? If the music makes a mob of excited people jump up and down and yell lyrics at each other, that's not a bad thing (nor is it a new concept).But that's the reason why some successful emcees don't have great live shows: they never needed one to get where they are.Skinny Friedman has unmatchable stage presence when he blogs. He's on Twitter - @skinny412\"\"\", 'rap')\n",
    "\n",
    "ex2 = (\"\"\"‘Black-ish’ Addressed Postpartum Depression Better Than My Doctor It’s the PSA of my goddamn dreams. At the height of my postpartum depression and anxiety, I had been to the emergency room twice for palpitations I perceived to be a heart attack. I also had an MRI for migraines I was convinced were the result of a tumor. I often lay awake watching my daughter's monitor for hands that would snatch her from her crib. I called my dentist after hours and pushed for her to assure me my tooth pain was not an infection that would spread to my brain. Most nights before turning out the lights I asked my husband Dan to assure me I wouldn't die in my sleep. On one particular evening, I was lying in bed with my legs against our headboard, trying to take the pressure off of an ache in my calf that I was pretty sure was a blood clot slowly making its way to my lungs. Dan slid into bed and I turned my head to him, panicked tears already rolling down my face. 'Do you think…?' Before I finished he said, 'Yes, I will see you in the morning. I promise.' He caught my eye and we both started laughing. It wasn't exactly funny, but even in the midst of my very real distress, I knew my thought patterns weren't typical. Sometimes finding humor in it made it feel less overwhelming. Tracee Ellis Ross reinforced that in last night's episode of  Black-ish when her character Rainbow ('Bow') and her husband, Dre (played by Anthony Johnson), take a quiz about postpartum depression. Dre reads the first question: 'Do you feel sad, hopeless, overwhelmed, empty?' Through tears, Bow responds: 'Ah…well, I feel sad and I feel hopeless and I feel overwhelmed, but I don't feel empty, so I guess it's a no for me.' It's a moment of comic relief in the scene—while Rainbow is clearly depressed, this moment pokes fun at her just falling short of being the total package of PPD misery. 'I think that comedy can help us shine a light on important mental health issues, when it is done responsibly,' says Mike Fraser, a psychologist chief of staff at Behavioral Associates in New York. 'Comedy that aims for the easy laugh by poking fun at people struggling with real mental health issues obviously doesn't help. But if it can bring exposure to issues that millions of people battle—often in isolation—comedy can open the door for people to get an important conversation going and possibly even reach out for help.'  Watch this from Tonic:As Dan and I watched the episode, we were both especially struck by a scene in which Dre and Bow visit a doctor about her perceived condition. They discuss Bow's symptoms—anxiety, insomnia, crying and constant insecurity—and the doctor assures her they are not only normal, but treatable. Bow represents a huge number of women when she tells the doctor, 'I can get through this, I don't want medication.' Her doctor replies, 'postpartum depression is a mood disorder—it's not just something you can power through—and it's not something you should be ashamed of.'  It's the postpartum PSA of my goddamn dreams—one I wish they would play in place of the over simplified, condescending crap most women hear before exiting the hospital with a new baby. Dan points out that the scene represents a support system some women will never see in real life. And I knew he was right: My own experience with a doctor who listened to my symptoms and then put her hands on my knees and told me to go for a brisk walk was proof enough. Even though I had dealt with depression and anxiety for most of my adult life, her patronization made me second guess what I knew to be facts. Lucky for me, by the time I made it to the car my support system (hi mom) was on other end of the phone while I screamed, 'Fuck that lady!' I knew that exercise couldn't 'cure' what science has shown to be chemical. But I was pissed for the people who would accept her words as truth. Hours of therapy and one daily dose of Lexapro later, I still struggle with bouts of depression and many of my impulses from those early days of motherhood have hung around. But each night when Dan locks the front door and I walk over to touch it—a habit rooted in obsessive compulsive tendencies—we both laugh. 'I know, I know,' I say, smiling as I reach out my hand. It's a necessary ritual for me to feel at ease, but the lightness we sometimes inject into it makes it feel less clinical. And that's what  Black-ish offers its viewers when Dre cozies up next to Bow on the couch and rattles off questions from a women's magazine quiz, giving her props on her near perfect score (and while that equates to depressed as hell, Bow is never one to bomb a quiz of any type). There were some scenes that were a little too neatly tied up, particularly one where Bow's mother-in-law Ruby apologizes for her vast misconceptions about PPD (which included comments like, 'I didn't go to some quack doctor because I was mentally ill with some made up disease'). The turnaround between her blatant ignorance and acceptance is a bit quick and, sadly, unrealistic, but it sticks with the show's intent of bringing a serious issue to an accessible 30-minute comedic platform. After all, I realized, most people don't discuss mental health on the regular as we do in our household. Shows like  Black-ish might be the open door they've been needing to walk through.Read This Next: Chrissy Teigen, Postpartum Depression, and Trump\"\"\", 'depression')"
   ]
  },
  {
   "cell_type": "code",
   "execution_count": 148,
   "metadata": {},
   "outputs": [],
   "source": [
    "import pickle\n",
    "\n",
    "with open('model/tokenizer.pickle', 'wb') as handle:\n",
    "    pickle.dump(tokenizer, handle, protocol=pickle.HIGHEST_PROTOCOL)\n",
    "\n",
    "# loading\n",
    "with open('model/tokenizer.pickle', 'rb') as handle:\n",
    "    tok = pickle.load(handle)"
   ]
  },
  {
   "cell_type": "code",
   "execution_count": 159,
   "metadata": {},
   "outputs": [],
   "source": [
    "# tokenizer.fit_on_texts([example[0]])\n",
    "sequences = Tokenizer.texts_to_sequences(tok, [ex2[0]])\n",
    "inp = pad_sequences(sequences, maxlen=max_seq_len)"
   ]
  },
  {
   "cell_type": "code",
   "execution_count": 174,
   "metadata": {},
   "outputs": [],
   "source": [
    "preds = model.predict(inp)"
   ]
  },
  {
   "cell_type": "code",
   "execution_count": 175,
   "metadata": {},
   "outputs": [
    {
     "data": {
      "text/plain": [
       "array([[2.99151358e-03, 1.22784439e-03, 6.71361398e-04, 7.51021900e-04,\n",
       "        3.64817469e-03, 1.29765668e-03, 6.43520756e-03, 4.26253974e-02,\n",
       "        6.49474503e-04, 8.24139174e-03, 4.44732327e-03, 2.44179601e-03,\n",
       "        6.78680558e-03, 1.96080375e-03, 1.21848006e-02, 6.70902571e-03,\n",
       "        1.18469041e-04, 1.40894833e-03, 5.10199089e-03, 1.65965185e-02,\n",
       "        1.66625157e-03, 7.07344338e-03, 1.07228020e-02, 1.27576559e-03,\n",
       "        2.46457197e-02, 4.17325133e-03, 5.43171866e-03, 6.65167463e-04,\n",
       "        7.00661563e-04, 1.37496961e-03, 7.40222726e-03, 4.82650893e-03,\n",
       "        7.73572770e-04, 4.59399726e-03, 1.42653298e-03, 2.77824095e-03,\n",
       "        7.94040097e-04, 1.86302897e-03, 2.69145984e-03, 1.49809371e-03,\n",
       "        3.88143235e-03, 6.39630156e-03, 2.62805424e-03, 6.10506628e-04,\n",
       "        6.24002889e-04, 1.36781146e-03, 1.57610408e-03, 6.54631946e-03,\n",
       "        5.13481733e-04, 1.68345275e-03, 7.93699000e-04, 1.35860080e-03,\n",
       "        2.98741460e-03, 6.84177410e-03, 1.27164200e-02, 5.12191048e-03,\n",
       "        1.34358415e-02, 7.52102816e-04, 2.78928806e-03, 1.85653311e-03,\n",
       "        8.09969322e-04, 4.93451371e-04, 3.21804686e-03, 7.63135822e-03,\n",
       "        7.80633045e-03, 4.12053894e-03, 2.25771172e-03, 8.36115621e-04,\n",
       "        7.66155892e-04, 7.41441676e-04, 1.89390779e-03, 4.46264050e-04,\n",
       "        8.25558731e-04, 3.60267307e-03, 3.39385937e-03, 9.88256070e-05,\n",
       "        9.09883936e-04, 6.89165900e-04, 2.14431784e-03, 6.23452070e-04,\n",
       "        2.17366801e-03, 4.50264569e-03, 1.03995940e-02, 8.73296347e-04,\n",
       "        8.97777849e-04, 6.18596002e-03, 1.81485573e-03, 7.74289074e-05,\n",
       "        1.55287358e-04, 9.73981863e-04, 1.48098986e-03, 4.91485873e-04,\n",
       "        4.13251529e-03, 2.25281296e-03, 6.97243726e-04, 2.01599812e-03,\n",
       "        1.69157032e-02, 3.51766450e-03, 5.61964756e-04, 6.65599538e-04,\n",
       "        4.87451587e-04, 2.12996383e-03, 1.76039408e-03, 2.45941686e-03,\n",
       "        2.42589996e-03, 1.48388703e-04, 6.65413914e-04, 5.18803659e-04,\n",
       "        2.30529555e-03, 5.23439725e-04, 9.44454107e-04, 7.19776726e-04,\n",
       "        6.55550696e-03, 2.50899768e-03, 1.08480908e-03, 8.34537612e-04,\n",
       "        1.37310429e-03, 1.12062611e-03, 1.46973634e-03, 6.59269223e-04,\n",
       "        2.68552941e-03, 7.41998712e-03, 7.14006776e-04, 6.58764504e-04,\n",
       "        1.67474407e-03, 1.25692226e-03, 1.51372235e-03, 2.36042379e-03,\n",
       "        3.81561927e-04, 8.45673203e-04, 6.09241053e-03, 1.01743243e-03,\n",
       "        6.85709005e-04, 1.41637854e-03, 1.18484872e-03, 4.82802920e-04,\n",
       "        2.41040066e-03, 2.86980486e-03, 9.57414159e-04, 1.49993750e-03,\n",
       "        1.32776005e-03, 1.23305246e-03, 2.37505254e-03, 7.68458145e-03,\n",
       "        1.19653775e-03, 2.71619461e-03, 1.94406230e-03, 4.66045365e-03,\n",
       "        6.46783272e-04, 6.80975209e-04, 2.40799435e-03, 1.24200899e-03,\n",
       "        2.02541868e-03, 9.93643072e-04, 1.13513775e-03, 4.61743010e-04,\n",
       "        1.84463232e-03, 2.10416294e-03, 3.87056870e-03, 8.30892532e-04,\n",
       "        6.07990776e-04, 7.32721121e-04, 1.03822781e-03, 1.36238791e-03,\n",
       "        1.55658438e-03, 3.48842377e-03, 7.29635824e-03, 1.17535517e-03,\n",
       "        2.45720148e-03, 8.19817593e-04, 9.12290066e-04, 2.09454633e-03,\n",
       "        1.92078622e-03, 9.66708321e-05, 6.82200957e-03, 5.32499689e-04,\n",
       "        1.25463726e-03, 3.03409924e-03, 1.64986809e-03, 1.92008249e-03,\n",
       "        4.83348407e-03, 1.78637996e-03, 6.66881446e-04, 2.70928047e-03,\n",
       "        1.11626438e-03, 8.35035811e-04, 1.29966647e-04, 3.59853124e-03,\n",
       "        7.45171797e-04, 2.47290335e-03, 1.46727636e-03, 2.19068443e-03,\n",
       "        1.81210029e-03, 5.49535907e-04, 1.13128498e-03, 1.14812970e-03,\n",
       "        8.06875003e-04, 1.86589430e-04, 2.84697325e-03, 1.46066141e-03,\n",
       "        6.94097660e-04, 2.57732347e-03, 8.14792147e-05, 1.55904575e-03,\n",
       "        5.34172112e-04, 3.40763805e-03, 1.24533661e-03, 4.05980647e-03,\n",
       "        6.83468999e-04, 6.84388331e-04, 1.45264843e-03, 4.45475103e-03,\n",
       "        1.12941000e-03, 2.02560867e-03, 1.90546457e-03, 1.70707155e-03,\n",
       "        5.65777940e-04, 6.76953525e-04, 9.86475497e-04, 1.13449164e-03,\n",
       "        1.88117498e-03, 3.40999803e-03, 3.52075486e-03, 6.67355780e-04,\n",
       "        5.71290031e-03, 1.74680795e-03, 3.68768233e-03, 2.30805646e-03,\n",
       "        7.25932070e-04, 2.01291754e-03, 8.10699246e-04, 2.22428050e-03,\n",
       "        4.75533336e-04, 3.41613125e-03, 1.42128288e-03, 3.31817218e-03,\n",
       "        2.31200969e-03, 6.11255819e-04, 3.06892092e-03, 4.75257926e-04,\n",
       "        6.18470134e-03, 7.12690060e-04, 9.64471779e-04, 2.13808473e-03,\n",
       "        5.02273382e-04, 7.59221381e-04, 4.91553859e-04, 8.91002419e-04,\n",
       "        1.11000170e-03, 7.35170965e-04, 7.70210521e-04, 1.95877953e-03,\n",
       "        9.70570982e-05, 8.99297826e-04, 1.12724002e-03, 2.75060674e-03,\n",
       "        7.60026625e-04, 6.20855659e-04, 1.06886053e-03, 1.18983374e-03,\n",
       "        1.35836343e-03, 6.67817309e-04, 8.17418448e-04, 1.16760423e-03,\n",
       "        9.26981520e-05, 7.65757810e-04, 9.91780427e-04, 7.37482987e-05,\n",
       "        7.63251970e-04, 1.93818333e-03, 8.59028718e-04, 5.60397806e-04,\n",
       "        1.68971950e-04, 1.14714436e-03, 1.38664141e-03, 7.83728843e-04,\n",
       "        1.48153875e-03, 1.44203252e-03, 7.08121108e-04, 4.09797207e-03,\n",
       "        1.04069732e-04, 5.12372353e-04, 1.58561266e-03, 5.38876338e-04,\n",
       "        3.46829323e-03, 1.40024436e-04, 2.26031197e-03, 9.57670913e-04,\n",
       "        1.76287140e-03, 8.19639361e-04, 5.52341051e-04, 8.23020877e-04,\n",
       "        7.55098241e-04, 6.09239272e-04, 5.80971688e-03, 7.46572739e-04,\n",
       "        1.23310287e-03, 7.69278558e-04, 1.25347826e-04, 1.46930502e-03,\n",
       "        1.28302455e-03, 1.74128090e-03, 1.48391468e-04, 1.51476613e-03,\n",
       "        1.41452719e-03, 1.21066063e-04, 7.43029348e-04, 1.17438124e-03,\n",
       "        1.18369446e-03, 2.16885167e-03, 2.61201174e-03, 6.02432061e-04,\n",
       "        1.92696380e-03, 1.13587908e-03, 5.18800691e-04, 6.69591187e-04,\n",
       "        2.22616852e-03, 1.04244216e-03, 6.98820804e-04, 1.10933953e-03,\n",
       "        1.30643218e-03, 1.30999915e-03, 2.67418218e-03, 1.88370794e-03,\n",
       "        1.87325443e-03, 4.90186212e-04, 1.10113889e-03, 1.25299406e-03,\n",
       "        7.01107376e-04, 8.93124961e-05, 2.03034421e-03, 2.04199809e-03,\n",
       "        1.03718345e-03, 1.41204044e-04, 5.85001893e-04, 3.37370834e-03,\n",
       "        1.00341020e-03, 1.40041206e-03, 7.20004668e-04, 6.87003718e-04,\n",
       "        2.41103093e-03, 7.85597775e-04, 5.49108954e-04, 8.83602246e-04,\n",
       "        6.83369290e-04, 7.95667409e-04, 5.68900665e-04, 7.79331822e-05,\n",
       "        1.55526784e-03, 8.80442210e-04, 1.37068389e-03, 1.32457132e-03,\n",
       "        2.62581604e-03, 2.17127614e-03, 1.33281876e-03, 1.03787606e-04,\n",
       "        6.45196880e-04, 2.40598759e-03, 1.51541492e-04, 6.96762465e-04,\n",
       "        7.54069944e-04, 1.16659701e-03, 6.99950266e-04, 6.65407570e-04,\n",
       "        7.43791577e-04, 8.86622656e-05, 6.44397805e-04, 1.40063604e-03,\n",
       "        6.09608891e-04, 6.82820741e-04, 1.06841291e-03, 2.18606368e-03,\n",
       "        1.19119568e-03, 1.24785199e-03, 1.11715740e-03, 2.17411644e-03,\n",
       "        1.29932072e-03, 5.70315984e-04, 5.76904218e-04, 1.95929222e-03,\n",
       "        1.75799965e-03, 1.25186029e-03, 2.75389501e-03, 1.86269055e-03,\n",
       "        1.20452559e-03, 1.25446497e-03, 1.20084919e-03, 7.61083385e-04,\n",
       "        1.40468962e-03, 1.75652863e-03, 3.73163028e-04, 6.43582491e-04,\n",
       "        4.72505897e-04, 1.18919660e-03, 1.28580106e-03, 6.45454798e-04,\n",
       "        8.83745495e-04, 5.77536644e-04, 1.84123608e-04, 9.15776123e-04,\n",
       "        1.05827441e-03, 7.35652749e-04, 5.26842254e-04, 7.49156345e-04,\n",
       "        2.52720714e-03, 6.97390700e-04, 1.54914524e-04, 1.94057135e-03,\n",
       "        1.60814263e-03, 7.27216364e-04, 2.06371862e-03, 5.57407329e-04,\n",
       "        7.63567165e-04, 7.06464110e-04, 1.13161735e-03, 1.16888405e-04,\n",
       "        7.86327641e-04, 7.92249863e-04, 1.39067124e-03, 1.27649517e-03,\n",
       "        6.02036365e-04, 9.80938436e-04, 3.10263742e-04, 6.65222004e-04,\n",
       "        1.48145854e-03, 1.13109461e-04, 6.19808503e-04, 7.03788071e-04,\n",
       "        6.63932879e-04, 1.24184310e-03, 7.04319100e-04, 5.92150958e-04,\n",
       "        6.83889259e-04, 7.23034958e-04, 1.37003802e-03, 1.45266458e-04,\n",
       "        2.97140819e-03, 7.95524393e-04, 1.26531499e-03, 6.71714952e-04,\n",
       "        9.50367830e-04, 7.63505639e-04, 5.70903707e-04, 1.44756201e-03,\n",
       "        8.81383952e-04, 5.54426981e-04, 8.66205082e-04, 3.15661775e-04,\n",
       "        5.19250170e-04, 9.19455051e-05, 1.42445171e-03, 6.21685118e-04,\n",
       "        7.07176281e-04, 6.65531319e-04, 5.41482004e-04, 9.38189216e-04,\n",
       "        9.69156245e-05, 1.04033761e-03, 7.46321748e-04, 1.55459376e-04,\n",
       "        1.22659584e-03, 6.42749888e-04, 1.55151385e-04, 1.51830813e-04,\n",
       "        9.10327799e-05, 7.01526471e-04, 9.55839059e-04, 1.23781196e-04,\n",
       "        5.68532676e-04, 9.06535017e-04, 5.07613760e-04, 6.95110881e-04,\n",
       "        1.17248239e-03, 6.05810201e-04, 1.29837179e-04, 1.29738136e-03,\n",
       "        1.30726665e-04, 1.42032572e-03, 5.82145236e-04, 2.07924307e-03,\n",
       "        8.76100094e-05, 6.08909933e-04, 7.90616206e-04, 1.04493322e-03,\n",
       "        6.76626922e-04, 6.30322786e-04, 6.18171645e-04, 7.09926127e-04,\n",
       "        9.12613061e-04, 8.32081831e-04, 1.17826406e-04, 1.38551451e-03,\n",
       "        6.87336025e-04, 8.38090025e-04, 9.16935562e-04, 7.40994175e-04,\n",
       "        1.31417729e-03, 8.57880921e-04, 9.19912927e-05, 1.05020287e-03,\n",
       "        1.19220422e-04, 6.20858045e-04, 1.40653446e-03, 1.77682831e-03,\n",
       "        7.01176643e-04, 6.59977843e-04, 6.91828609e-04, 8.21645197e-04,\n",
       "        1.47464918e-03, 9.11504962e-04, 9.43372506e-05, 1.16246357e-03,\n",
       "        1.33505138e-03, 1.32015592e-03, 1.62014063e-03, 8.77656275e-04,\n",
       "        1.23471953e-03, 1.22954865e-04, 4.25678026e-03, 1.31896028e-04,\n",
       "        8.72733246e-04, 1.43536576e-03, 1.09623703e-04, 6.95646391e-04,\n",
       "        8.79229279e-04, 1.44653066e-04, 6.20356412e-04, 1.44276326e-03,\n",
       "        8.46919080e-04, 8.31780722e-04, 6.42503495e-04, 9.16442485e-04,\n",
       "        2.23330542e-04, 1.18617294e-03, 5.32742764e-04, 7.88027828e-04,\n",
       "        7.31016742e-04, 9.20146063e-04, 8.65947455e-04, 6.21048152e-04,\n",
       "        7.30476982e-04, 7.08554406e-04, 7.31413485e-04, 1.25280197e-03,\n",
       "        1.43900019e-04, 7.44844205e-04, 1.95742832e-04, 9.94255170e-05,\n",
       "        6.54946489e-04, 1.56774477e-04, 1.37021401e-04, 7.64601573e-04,\n",
       "        6.97060896e-05, 9.34008334e-04, 6.46518718e-04, 1.26338121e-03,\n",
       "        5.71031414e-04, 6.55627635e-04, 6.81336678e-04, 1.00301841e-04,\n",
       "        6.96944247e-04, 6.45751250e-04, 6.01032749e-04, 6.86833111e-04,\n",
       "        6.82379410e-04, 8.51569814e-04, 8.25586263e-04, 7.76148052e-04,\n",
       "        1.29078762e-04, 8.15871754e-04, 1.72017864e-03, 1.37894251e-03,\n",
       "        1.24821323e-03, 8.70404241e-04, 8.41551751e-04, 5.17436187e-04,\n",
       "        7.05401355e-04, 9.08939168e-04, 6.54941832e-04, 1.43103942e-04,\n",
       "        7.50999025e-04, 1.00022480e-04, 1.37970794e-03, 1.77838141e-03,\n",
       "        6.19518978e-04, 6.81870675e-04, 7.48707447e-04, 7.93214189e-04,\n",
       "        9.31324146e-04, 4.48103412e-04, 6.27372472e-04, 5.79140615e-04,\n",
       "        9.52593909e-05, 9.50209040e-04, 1.50433465e-04, 5.46711846e-04,\n",
       "        4.00057907e-04, 8.09925317e-04, 9.03118111e-04, 7.04756181e-04,\n",
       "        6.87713677e-04, 6.35620672e-04, 7.40481366e-04, 6.56689866e-04,\n",
       "        8.01596674e-04, 7.21193850e-04, 4.72347980e-04]], dtype=float32)"
      ]
     },
     "execution_count": 175,
     "metadata": {},
     "output_type": "execute_result"
    }
   ],
   "source": [
    "preds"
   ]
  },
  {
   "cell_type": "code",
   "execution_count": 171,
   "metadata": {},
   "outputs": [
    {
     "data": {
      "text/plain": [
       "trans    1\n",
       "Name: topic, dtype: int64"
      ]
     },
     "execution_count": 171,
     "metadata": {},
     "output_type": "execute_result"
    }
   ],
   "source": []
  },
  {
   "cell_type": "code",
   "execution_count": 128,
   "metadata": {},
   "outputs": [
    {
     "data": {
      "text/plain": [
       "'ukraine'"
      ]
     },
     "execution_count": 128,
     "metadata": {},
     "output_type": "execute_result"
    }
   ],
   "source": [
    "topics[181]"
   ]
  },
  {
   "cell_type": "code",
   "execution_count": 76,
   "metadata": {},
   "outputs": [],
   "source": [
    "model.save('./model/topic_model.h5')  # creates a HDF5 file 'my_model.h5'\n",
    "del model"
   ]
  },
  {
   "cell_type": "code",
   "execution_count": 115,
   "metadata": {},
   "outputs": [
    {
     "data": {
      "text/plain": [
       "True"
      ]
     },
     "execution_count": 115,
     "metadata": {},
     "output_type": "execute_result"
    }
   ],
   "source": [
    "'depression' in topics"
   ]
  },
  {
   "cell_type": "code",
   "execution_count": null,
   "metadata": {},
   "outputs": [],
   "source": []
  }
 ],
 "metadata": {
  "kernelspec": {
   "display_name": "Python 3",
   "language": "python",
   "name": "python3"
  },
  "language_info": {
   "codemirror_mode": {
    "name": "ipython",
    "version": 3
   },
   "file_extension": ".py",
   "mimetype": "text/x-python",
   "name": "python",
   "nbconvert_exporter": "python",
   "pygments_lexer": "ipython3",
   "version": "3.6.3"
  }
 },
 "nbformat": 4,
 "nbformat_minor": 1
}
