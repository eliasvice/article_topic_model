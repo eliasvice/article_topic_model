{
 "cells": [
  {
   "cell_type": "markdown",
   "metadata": {},
   "source": [
    "# Vice Articles Topic Model"
   ]
  },
  {
   "cell_type": "markdown",
   "metadata": {},
   "source": [
    "#### Supervised Text classification model"
   ]
  },
  {
   "cell_type": "code",
   "execution_count": 8,
   "metadata": {},
   "outputs": [],
   "source": [
    "from keras.preprocessing.text import Tokenizer\n",
    "from keras.preprocessing.sequence import pad_sequences\n",
    "import keras, numpy as np\n",
    "from keras.layers import Embedding, Dense, LSTM, GRU\n",
    "from keras.models import Sequential\n",
    "import pandas as pd\n",
    "from sklearn.model_selection import train_test_split, StratifiedShuffleSplit\n",
    "import glob"
   ]
  },
  {
   "cell_type": "markdown",
   "metadata": {},
   "source": [
    "_A small sample dataset to train and test the model_"
   ]
  },
  {
   "cell_type": "code",
   "execution_count": 2,
   "metadata": {},
   "outputs": [
    {
     "name": "stdout",
     "output_type": "stream",
     "text": [
      "download: s3://topic-model-hack/hackweek/articles_with_1000_plus_topics/article_data_0002_part_00 to data/article_data_0002_part_00\n",
      "download: s3://topic-model-hack/hackweek/articles_with_1000_plus_topics/article_data_0004_part_00 to data/article_data_0004_part_00\n",
      "download: s3://topic-model-hack/hackweek/articles_with_1000_plus_topics/article_data_0001_part_00 to data/article_data_0001_part_00\n",
      "download: s3://topic-model-hack/hackweek/articles_with_1000_plus_topics/article_data_0003_part_00 to data/article_data_0003_part_00\n",
      "download: s3://topic-model-hack/hackweek/articles_with_1000_plus_topics/article_data_0005_part_00 to data/article_data_0005_part_00\n",
      "download: s3://topic-model-hack/hackweek/articles_with_1000_plus_topics/article_data_0007_part_00 to data/article_data_0007_part_00\n",
      "download: s3://topic-model-hack/hackweek/articles_with_1000_plus_topics/article_data_0006_part_00 to data/article_data_0006_part_00\n",
      "download: s3://topic-model-hack/hackweek/articles_with_1000_plus_topics/article_data_0008_part_00 to data/article_data_0008_part_00\n",
      "download: s3://topic-model-hack/hackweek/articles_with_1000_plus_topics/article_data_0009_part_00 to data/article_data_0009_part_00\n",
      "download: s3://topic-model-hack/hackweek/articles_with_1000_plus_topics/article_data_0000_part_00 to data/article_data_0000_part_00\n",
      "download: s3://topic-model-hack/hackweek/articles_with_1000_plus_topics/article_data_0010_part_00 to data/article_data_0010_part_00\n",
      "download: s3://topic-model-hack/hackweek/articles_with_1000_plus_topics/article_data_0013_part_00 to data/article_data_0013_part_00\n",
      "download: s3://topic-model-hack/hackweek/articles_with_1000_plus_topics/article_data_0011_part_00 to data/article_data_0011_part_00\n",
      "download: s3://topic-model-hack/hackweek/articles_with_1000_plus_topics/article_data_0014_part_00 to data/article_data_0014_part_00\n",
      "download: s3://topic-model-hack/hackweek/articles_with_1000_plus_topics/article_data_0012_part_00 to data/article_data_0012_part_00\n",
      "download: s3://topic-model-hack/hackweek/articles_with_1000_plus_topics/article_data_0015_part_00 to data/article_data_0015_part_00\n"
     ]
    }
   ],
   "source": [
    "!aws s3 cp s3://topic-model-hack/hackweek/articles_with_1000_plus_topics/ ./data/ --recursive"
   ]
  },
  {
   "cell_type": "code",
   "execution_count": 9,
   "metadata": {},
   "outputs": [
    {
     "data": {
      "text/plain": [
       "(189295, 3)"
      ]
     },
     "execution_count": 9,
     "metadata": {},
     "output_type": "execute_result"
    }
   ],
   "source": [
    "files = glob.glob(\"./data/article_data*\")\n",
    "data = pd.concat([pd.read_csv(f, sep='|', engine='python', header=None) for f in files])\n",
    "data.columns = ['article_id', 'body', 'topic']\n",
    "data = data[~data.body.isnull()]\n",
    "data.shape"
   ]
  },
  {
   "cell_type": "code",
   "execution_count": 10,
   "metadata": {},
   "outputs": [],
   "source": [
    "# data_loc = \"./data/article_data_*\"\n",
    "# data = pd.read_csv(data_loc, sep='|', engine='python', names=['article_id','body', 'topic'], header=None)\n",
    "# # data.columns = ['article_id', 'url_fragment', 'first_published', 'body', 'topic']\n",
    "# data = data[~data.body.isnull()]\n",
    "# data.shape"
   ]
  },
  {
   "cell_type": "code",
   "execution_count": 20,
   "metadata": {},
   "outputs": [],
   "source": [
    "# # train_size = int(np.floor(data.shape[0] * .8))\n",
    "# # train_x = data[\"body\"][0:train_size]\n",
    "# # train_y = data[\"topic\"][0:train_size]\n",
    "# # test_x = data[\"body\"][train_size:]\n",
    "# # test_y = data[\"topic\"][train_size:]\n",
    "\n",
    "# def map_topic():\n",
    "#     ntopics = []\n",
    "#     with open('./data/hard_topics.txt') as htp:\n",
    "#         line = htp.readline().split('|')\n",
    "#         topics += [line[-1]]\n",
    "#     return ntopics\n",
    "\n",
    "\n",
    "# # train_x.shape, train_y.shape, test_x.shape, test_y.shape\n",
    "# topics = map_topics"
   ]
  },
  {
   "cell_type": "code",
   "execution_count": 12,
   "metadata": {},
   "outputs": [],
   "source": [
    "X = data[\"body\"]\n",
    "y = data[\"topic\"]"
   ]
  },
  {
   "cell_type": "code",
   "execution_count": 13,
   "metadata": {},
   "outputs": [
    {
     "data": {
      "text/plain": [
       "(282, 0.00011093795398716289)"
      ]
     },
     "execution_count": 13,
     "metadata": {},
     "output_type": "execute_result"
    }
   ],
   "source": [
    "topics = list(y.unique())\n",
    "y_encoded = [topics.index(topic) for topic in y] \n",
    "topics[36] = 'body'\n",
    "n_classes = len(topics)\n",
    "n_classes, sum(y.value_counts() <= 10)/y.shape[0]\n",
    "# with open('./model/topics.txt', 'w') as mfile:\n",
    "#     mfile.write('\\n'.join(topics))"
   ]
  },
  {
   "cell_type": "markdown",
   "metadata": {},
   "source": [
    "Preparing the data for the model\n",
    "* Tokenizing the text - Identifying unique words, creating a dictionary and counting their frequency in the list of documents (texts) in the training data.\n",
    "* One-hot encoding the labels (topics)\n",
    "* Splitting the data into train and test(validation) sets"
   ]
  },
  {
   "cell_type": "code",
   "execution_count": 14,
   "metadata": {},
   "outputs": [],
   "source": [
    "tokenizer = Tokenizer(num_words=nb_words)\n",
    "tokenizer.fit_on_texts(X)\n",
    "sequences = Tokenizer.texts_to_sequences(tokenizer, X)\n",
    "word_index = tokenizer.word_index\n",
    "\n",
    "ydata = keras.utils.to_categorical(y_encoded)\n",
    "input_data = pad_sequences(sequences, maxlen=max_seq_len)\n",
    "\n",
    "Xtrain, Xvalid, ytrain, yvalid = train_test_split(input_data, ydata, test_size=0.2)"
   ]
  },
  {
   "cell_type": "code",
   "execution_count": 28,
   "metadata": {},
   "outputs": [
    {
     "ename": "FileNotFoundError",
     "evalue": "[Errno 2] No such file or directory: 'model/tokenize.pickle'",
     "output_type": "error",
     "traceback": [
      "\u001b[0;31m---------------------------------------------------------------------------\u001b[0m",
      "\u001b[0;31mFileNotFoundError\u001b[0m                         Traceback (most recent call last)",
      "\u001b[0;32m<ipython-input-28-6f294d5bca6f>\u001b[0m in \u001b[0;36m<module>\u001b[0;34m()\u001b[0m\n\u001b[1;32m      5\u001b[0m \u001b[0;34m\u001b[0m\u001b[0m\n\u001b[1;32m      6\u001b[0m \u001b[0;31m# loading\u001b[0m\u001b[0;34m\u001b[0m\u001b[0;34m\u001b[0m\u001b[0m\n\u001b[0;32m----> 7\u001b[0;31m \u001b[0;32mwith\u001b[0m \u001b[0mopen\u001b[0m\u001b[0;34m(\u001b[0m\u001b[0;34m'model/tokenize.pickle'\u001b[0m\u001b[0;34m,\u001b[0m \u001b[0;34m'rb'\u001b[0m\u001b[0;34m)\u001b[0m \u001b[0;32mas\u001b[0m \u001b[0mhandle\u001b[0m\u001b[0;34m:\u001b[0m\u001b[0;34m\u001b[0m\u001b[0m\n\u001b[0m\u001b[1;32m      8\u001b[0m     \u001b[0mtok\u001b[0m \u001b[0;34m=\u001b[0m \u001b[0mpickle\u001b[0m\u001b[0;34m.\u001b[0m\u001b[0mload\u001b[0m\u001b[0;34m(\u001b[0m\u001b[0mhandle\u001b[0m\u001b[0;34m)\u001b[0m\u001b[0;34m\u001b[0m\u001b[0m\n",
      "\u001b[0;31mFileNotFoundError\u001b[0m: [Errno 2] No such file or directory: 'model/tokenize.pickle'"
     ]
    }
   ],
   "source": [
    "import pickle\n",
    "\n",
    "# with open('model/tokenizer.pickle', 'wb') as handle:\n",
    "#     pickle.dump(tokenizer, handle, protocol=pickle.HIGHEST_PROTOCOL)\n",
    "\n",
    "# loading\n",
    "with open('model/tokenize.pickle', 'rb') as handle:\n",
    "    tok = pickle.load(handle)"
   ]
  },
  {
   "cell_type": "markdown",
   "metadata": {},
   "source": [
    "_Model definition and training_"
   ]
  },
  {
   "cell_type": "code",
   "execution_count": 23,
   "metadata": {},
   "outputs": [
    {
     "data": {
      "text/plain": [
       "Index(['article_id', 'body', 'topic'], dtype='object')"
      ]
     },
     "execution_count": 23,
     "metadata": {},
     "output_type": "execute_result"
    }
   ],
   "source": [
    "embedding_vector_length = 128\n",
    "nb_words = 50000\n",
    "max_seq_len = 500\n",
    "data.columns"
   ]
  },
  {
   "cell_type": "code",
   "execution_count": 24,
   "metadata": {},
   "outputs": [],
   "source": [
    "def rnn_model():\n",
    "    model = Sequential()\n",
    "    model.add(Embedding(len(word_index)+1, embedding_vector_length, input_length=max_seq_len, embeddings_initializer='glorot_normal', \n",
    "                        embeddings_regularizer=keras.regularizers.l1(0.01)))\n",
    "    model.add(GRU(10))\n",
    "    model.add(Dense(n_classes, activation='softmax'))\n",
    "    model.compile(loss='categorical_crossentropy', optimizer='adam', metrics=['categorical_accuracy'])\n",
    "    print(model.summary())\n",
    "    return model"
   ]
  },
  {
   "cell_type": "code",
   "execution_count": 25,
   "metadata": {
    "scrolled": true
   },
   "outputs": [
    {
     "name": "stdout",
     "output_type": "stream",
     "text": [
      "_________________________________________________________________\n",
      "Layer (type)                 Output Shape              Param #   \n",
      "=================================================================\n",
      "embedding_3 (Embedding)      (None, 500, 128)          120826368 \n",
      "_________________________________________________________________\n",
      "gru_3 (GRU)                  (None, 10)                4170      \n",
      "_________________________________________________________________\n",
      "dense_3 (Dense)              (None, 282)               3102      \n",
      "=================================================================\n",
      "Total params: 120,833,640\n",
      "Trainable params: 120,833,640\n",
      "Non-trainable params: 0\n",
      "_________________________________________________________________\n",
      "None\n"
     ]
    },
    {
     "name": "stderr",
     "output_type": "stream",
     "text": [
      "/home/ec2-user/anaconda3/envs/tensorflow_p36/lib/python3.6/site-packages/keras/models.py:942: UserWarning: The `nb_epoch` argument in `fit` has been renamed `epochs`.\n",
      "  warnings.warn('The `nb_epoch` argument in `fit` '\n",
      "/home/ec2-user/anaconda3/envs/tensorflow_p36/lib/python3.6/site-packages/tensorflow/python/ops/gradients_impl.py:93: UserWarning: Converting sparse IndexedSlices to a dense Tensor with 120826368 elements. This may consume a large amount of memory.\n",
      "  \"This may consume a large amount of memory.\" % num_elements)\n"
     ]
    },
    {
     "name": "stdout",
     "output_type": "stream",
     "text": [
      "Train on 151436 samples, validate on 37859 samples\n",
      "Epoch 1/10\n",
      "151436/151436 [==============================] - 306s 2ms/step - loss: 194.3172 - categorical_accuracy: 0.0749 - val_loss: 161.3207 - val_categorical_accuracy: 0.0740\n",
      "Epoch 2/10\n",
      "151436/151436 [==============================] - 292s 2ms/step - loss: 171.2856 - categorical_accuracy: 0.0756 - val_loss: 177.0330 - val_categorical_accuracy: 0.0740\n",
      "Epoch 3/10\n",
      "151436/151436 [==============================] - 296s 2ms/step - loss: 171.1696 - categorical_accuracy: 0.0756 - val_loss: 165.3394 - val_categorical_accuracy: 0.0740\n",
      "Epoch 4/10\n",
      "151436/151436 [==============================] - 307s 2ms/step - loss: 171.0707 - categorical_accuracy: 0.0756 - val_loss: 167.9597 - val_categorical_accuracy: 0.0740\n",
      "Epoch 5/10\n",
      " 78848/151436 [==============>...............] - ETA: 2:16 - loss: 171.0985 - categorical_accuracy: 0.0759"
     ]
    },
    {
     "ename": "KeyboardInterrupt",
     "evalue": "",
     "output_type": "error",
     "traceback": [
      "\u001b[0;31m---------------------------------------------------------------------------\u001b[0m",
      "\u001b[0;31mKeyboardInterrupt\u001b[0m                         Traceback (most recent call last)",
      "\u001b[0;32m<ipython-input-25-098d8d85bdab>\u001b[0m in \u001b[0;36m<module>\u001b[0;34m()\u001b[0m\n\u001b[1;32m      1\u001b[0m \u001b[0mmodel\u001b[0m \u001b[0;34m=\u001b[0m \u001b[0mrnn_model\u001b[0m\u001b[0;34m(\u001b[0m\u001b[0;34m)\u001b[0m\u001b[0;34m\u001b[0m\u001b[0m\n\u001b[0;32m----> 2\u001b[0;31m \u001b[0mmodel\u001b[0m\u001b[0;34m.\u001b[0m\u001b[0mfit\u001b[0m\u001b[0;34m(\u001b[0m\u001b[0mXtrain\u001b[0m\u001b[0;34m,\u001b[0m \u001b[0mytrain\u001b[0m\u001b[0;34m,\u001b[0m \u001b[0mvalidation_data\u001b[0m\u001b[0;34m=\u001b[0m\u001b[0;34m(\u001b[0m\u001b[0mXvalid\u001b[0m\u001b[0;34m,\u001b[0m \u001b[0myvalid\u001b[0m\u001b[0;34m)\u001b[0m\u001b[0;34m,\u001b[0m \u001b[0mnb_epoch\u001b[0m\u001b[0;34m=\u001b[0m\u001b[0;36m10\u001b[0m\u001b[0;34m,\u001b[0m \u001b[0mbatch_size\u001b[0m\u001b[0;34m=\u001b[0m\u001b[0;36m512\u001b[0m\u001b[0;34m)\u001b[0m\u001b[0;34m\u001b[0m\u001b[0m\n\u001b[0m",
      "\u001b[0;32m~/anaconda3/envs/tensorflow_p36/lib/python3.6/site-packages/keras/models.py\u001b[0m in \u001b[0;36mfit\u001b[0;34m(self, x, y, batch_size, epochs, verbose, callbacks, validation_split, validation_data, shuffle, class_weight, sample_weight, initial_epoch, steps_per_epoch, validation_steps, **kwargs)\u001b[0m\n\u001b[1;32m    961\u001b[0m                               \u001b[0minitial_epoch\u001b[0m\u001b[0;34m=\u001b[0m\u001b[0minitial_epoch\u001b[0m\u001b[0;34m,\u001b[0m\u001b[0;34m\u001b[0m\u001b[0m\n\u001b[1;32m    962\u001b[0m                               \u001b[0msteps_per_epoch\u001b[0m\u001b[0;34m=\u001b[0m\u001b[0msteps_per_epoch\u001b[0m\u001b[0;34m,\u001b[0m\u001b[0;34m\u001b[0m\u001b[0m\n\u001b[0;32m--> 963\u001b[0;31m                               validation_steps=validation_steps)\n\u001b[0m\u001b[1;32m    964\u001b[0m \u001b[0;34m\u001b[0m\u001b[0m\n\u001b[1;32m    965\u001b[0m     def evaluate(self, x=None, y=None,\n",
      "\u001b[0;32m~/anaconda3/envs/tensorflow_p36/lib/python3.6/site-packages/keras/engine/training.py\u001b[0m in \u001b[0;36mfit\u001b[0;34m(self, x, y, batch_size, epochs, verbose, callbacks, validation_split, validation_data, shuffle, class_weight, sample_weight, initial_epoch, steps_per_epoch, validation_steps, **kwargs)\u001b[0m\n\u001b[1;32m   1703\u001b[0m                               \u001b[0minitial_epoch\u001b[0m\u001b[0;34m=\u001b[0m\u001b[0minitial_epoch\u001b[0m\u001b[0;34m,\u001b[0m\u001b[0;34m\u001b[0m\u001b[0m\n\u001b[1;32m   1704\u001b[0m                               \u001b[0msteps_per_epoch\u001b[0m\u001b[0;34m=\u001b[0m\u001b[0msteps_per_epoch\u001b[0m\u001b[0;34m,\u001b[0m\u001b[0;34m\u001b[0m\u001b[0m\n\u001b[0;32m-> 1705\u001b[0;31m                               validation_steps=validation_steps)\n\u001b[0m\u001b[1;32m   1706\u001b[0m \u001b[0;34m\u001b[0m\u001b[0m\n\u001b[1;32m   1707\u001b[0m     def evaluate(self, x=None, y=None,\n",
      "\u001b[0;32m~/anaconda3/envs/tensorflow_p36/lib/python3.6/site-packages/keras/engine/training.py\u001b[0m in \u001b[0;36m_fit_loop\u001b[0;34m(self, f, ins, out_labels, batch_size, epochs, verbose, callbacks, val_f, val_ins, shuffle, callback_metrics, initial_epoch, steps_per_epoch, validation_steps)\u001b[0m\n\u001b[1;32m   1233\u001b[0m                         \u001b[0mins_batch\u001b[0m\u001b[0;34m[\u001b[0m\u001b[0mi\u001b[0m\u001b[0;34m]\u001b[0m \u001b[0;34m=\u001b[0m \u001b[0mins_batch\u001b[0m\u001b[0;34m[\u001b[0m\u001b[0mi\u001b[0m\u001b[0;34m]\u001b[0m\u001b[0;34m.\u001b[0m\u001b[0mtoarray\u001b[0m\u001b[0;34m(\u001b[0m\u001b[0;34m)\u001b[0m\u001b[0;34m\u001b[0m\u001b[0m\n\u001b[1;32m   1234\u001b[0m \u001b[0;34m\u001b[0m\u001b[0m\n\u001b[0;32m-> 1235\u001b[0;31m                     \u001b[0mouts\u001b[0m \u001b[0;34m=\u001b[0m \u001b[0mf\u001b[0m\u001b[0;34m(\u001b[0m\u001b[0mins_batch\u001b[0m\u001b[0;34m)\u001b[0m\u001b[0;34m\u001b[0m\u001b[0m\n\u001b[0m\u001b[1;32m   1236\u001b[0m                     \u001b[0;32mif\u001b[0m \u001b[0;32mnot\u001b[0m \u001b[0misinstance\u001b[0m\u001b[0;34m(\u001b[0m\u001b[0mouts\u001b[0m\u001b[0;34m,\u001b[0m \u001b[0mlist\u001b[0m\u001b[0;34m)\u001b[0m\u001b[0;34m:\u001b[0m\u001b[0;34m\u001b[0m\u001b[0m\n\u001b[1;32m   1237\u001b[0m                         \u001b[0mouts\u001b[0m \u001b[0;34m=\u001b[0m \u001b[0;34m[\u001b[0m\u001b[0mouts\u001b[0m\u001b[0;34m]\u001b[0m\u001b[0;34m\u001b[0m\u001b[0m\n",
      "\u001b[0;32m~/anaconda3/envs/tensorflow_p36/lib/python3.6/site-packages/keras/backend/tensorflow_backend.py\u001b[0m in \u001b[0;36m__call__\u001b[0;34m(self, inputs)\u001b[0m\n\u001b[1;32m   2476\u001b[0m         \u001b[0msession\u001b[0m \u001b[0;34m=\u001b[0m \u001b[0mget_session\u001b[0m\u001b[0;34m(\u001b[0m\u001b[0;34m)\u001b[0m\u001b[0;34m\u001b[0m\u001b[0m\n\u001b[1;32m   2477\u001b[0m         updated = session.run(fetches=fetches, feed_dict=feed_dict,\n\u001b[0;32m-> 2478\u001b[0;31m                               **self.session_kwargs)\n\u001b[0m\u001b[1;32m   2479\u001b[0m         \u001b[0;32mreturn\u001b[0m \u001b[0mupdated\u001b[0m\u001b[0;34m[\u001b[0m\u001b[0;34m:\u001b[0m\u001b[0mlen\u001b[0m\u001b[0;34m(\u001b[0m\u001b[0mself\u001b[0m\u001b[0;34m.\u001b[0m\u001b[0moutputs\u001b[0m\u001b[0;34m)\u001b[0m\u001b[0;34m]\u001b[0m\u001b[0;34m\u001b[0m\u001b[0m\n\u001b[1;32m   2480\u001b[0m \u001b[0;34m\u001b[0m\u001b[0m\n",
      "\u001b[0;32m~/anaconda3/envs/tensorflow_p36/lib/python3.6/site-packages/tensorflow/python/client/session.py\u001b[0m in \u001b[0;36mrun\u001b[0;34m(self, fetches, feed_dict, options, run_metadata)\u001b[0m\n\u001b[1;32m    887\u001b[0m     \u001b[0;32mtry\u001b[0m\u001b[0;34m:\u001b[0m\u001b[0;34m\u001b[0m\u001b[0m\n\u001b[1;32m    888\u001b[0m       result = self._run(None, fetches, feed_dict, options_ptr,\n\u001b[0;32m--> 889\u001b[0;31m                          run_metadata_ptr)\n\u001b[0m\u001b[1;32m    890\u001b[0m       \u001b[0;32mif\u001b[0m \u001b[0mrun_metadata\u001b[0m\u001b[0;34m:\u001b[0m\u001b[0;34m\u001b[0m\u001b[0m\n\u001b[1;32m    891\u001b[0m         \u001b[0mproto_data\u001b[0m \u001b[0;34m=\u001b[0m \u001b[0mtf_session\u001b[0m\u001b[0;34m.\u001b[0m\u001b[0mTF_GetBuffer\u001b[0m\u001b[0;34m(\u001b[0m\u001b[0mrun_metadata_ptr\u001b[0m\u001b[0;34m)\u001b[0m\u001b[0;34m\u001b[0m\u001b[0m\n",
      "\u001b[0;32m~/anaconda3/envs/tensorflow_p36/lib/python3.6/site-packages/tensorflow/python/client/session.py\u001b[0m in \u001b[0;36m_run\u001b[0;34m(self, handle, fetches, feed_dict, options, run_metadata)\u001b[0m\n\u001b[1;32m   1118\u001b[0m     \u001b[0;32mif\u001b[0m \u001b[0mfinal_fetches\u001b[0m \u001b[0;32mor\u001b[0m \u001b[0mfinal_targets\u001b[0m \u001b[0;32mor\u001b[0m \u001b[0;34m(\u001b[0m\u001b[0mhandle\u001b[0m \u001b[0;32mand\u001b[0m \u001b[0mfeed_dict_tensor\u001b[0m\u001b[0;34m)\u001b[0m\u001b[0;34m:\u001b[0m\u001b[0;34m\u001b[0m\u001b[0m\n\u001b[1;32m   1119\u001b[0m       results = self._do_run(handle, final_targets, final_fetches,\n\u001b[0;32m-> 1120\u001b[0;31m                              feed_dict_tensor, options, run_metadata)\n\u001b[0m\u001b[1;32m   1121\u001b[0m     \u001b[0;32melse\u001b[0m\u001b[0;34m:\u001b[0m\u001b[0;34m\u001b[0m\u001b[0m\n\u001b[1;32m   1122\u001b[0m       \u001b[0mresults\u001b[0m \u001b[0;34m=\u001b[0m \u001b[0;34m[\u001b[0m\u001b[0;34m]\u001b[0m\u001b[0;34m\u001b[0m\u001b[0m\n",
      "\u001b[0;32m~/anaconda3/envs/tensorflow_p36/lib/python3.6/site-packages/tensorflow/python/client/session.py\u001b[0m in \u001b[0;36m_do_run\u001b[0;34m(self, handle, target_list, fetch_list, feed_dict, options, run_metadata)\u001b[0m\n\u001b[1;32m   1315\u001b[0m     \u001b[0;32mif\u001b[0m \u001b[0mhandle\u001b[0m \u001b[0;32mis\u001b[0m \u001b[0;32mNone\u001b[0m\u001b[0;34m:\u001b[0m\u001b[0;34m\u001b[0m\u001b[0m\n\u001b[1;32m   1316\u001b[0m       return self._do_call(_run_fn, self._session, feeds, fetches, targets,\n\u001b[0;32m-> 1317\u001b[0;31m                            options, run_metadata)\n\u001b[0m\u001b[1;32m   1318\u001b[0m     \u001b[0;32melse\u001b[0m\u001b[0;34m:\u001b[0m\u001b[0;34m\u001b[0m\u001b[0m\n\u001b[1;32m   1319\u001b[0m       \u001b[0;32mreturn\u001b[0m \u001b[0mself\u001b[0m\u001b[0;34m.\u001b[0m\u001b[0m_do_call\u001b[0m\u001b[0;34m(\u001b[0m\u001b[0m_prun_fn\u001b[0m\u001b[0;34m,\u001b[0m \u001b[0mself\u001b[0m\u001b[0;34m.\u001b[0m\u001b[0m_session\u001b[0m\u001b[0;34m,\u001b[0m \u001b[0mhandle\u001b[0m\u001b[0;34m,\u001b[0m \u001b[0mfeeds\u001b[0m\u001b[0;34m,\u001b[0m \u001b[0mfetches\u001b[0m\u001b[0;34m)\u001b[0m\u001b[0;34m\u001b[0m\u001b[0m\n",
      "\u001b[0;32m~/anaconda3/envs/tensorflow_p36/lib/python3.6/site-packages/tensorflow/python/client/session.py\u001b[0m in \u001b[0;36m_do_call\u001b[0;34m(self, fn, *args)\u001b[0m\n\u001b[1;32m   1321\u001b[0m   \u001b[0;32mdef\u001b[0m \u001b[0m_do_call\u001b[0m\u001b[0;34m(\u001b[0m\u001b[0mself\u001b[0m\u001b[0;34m,\u001b[0m \u001b[0mfn\u001b[0m\u001b[0;34m,\u001b[0m \u001b[0;34m*\u001b[0m\u001b[0margs\u001b[0m\u001b[0;34m)\u001b[0m\u001b[0;34m:\u001b[0m\u001b[0;34m\u001b[0m\u001b[0m\n\u001b[1;32m   1322\u001b[0m     \u001b[0;32mtry\u001b[0m\u001b[0;34m:\u001b[0m\u001b[0;34m\u001b[0m\u001b[0m\n\u001b[0;32m-> 1323\u001b[0;31m       \u001b[0;32mreturn\u001b[0m \u001b[0mfn\u001b[0m\u001b[0;34m(\u001b[0m\u001b[0;34m*\u001b[0m\u001b[0margs\u001b[0m\u001b[0;34m)\u001b[0m\u001b[0;34m\u001b[0m\u001b[0m\n\u001b[0m\u001b[1;32m   1324\u001b[0m     \u001b[0;32mexcept\u001b[0m \u001b[0merrors\u001b[0m\u001b[0;34m.\u001b[0m\u001b[0mOpError\u001b[0m \u001b[0;32mas\u001b[0m \u001b[0me\u001b[0m\u001b[0;34m:\u001b[0m\u001b[0;34m\u001b[0m\u001b[0m\n\u001b[1;32m   1325\u001b[0m       \u001b[0mmessage\u001b[0m \u001b[0;34m=\u001b[0m \u001b[0mcompat\u001b[0m\u001b[0;34m.\u001b[0m\u001b[0mas_text\u001b[0m\u001b[0;34m(\u001b[0m\u001b[0me\u001b[0m\u001b[0;34m.\u001b[0m\u001b[0mmessage\u001b[0m\u001b[0;34m)\u001b[0m\u001b[0;34m\u001b[0m\u001b[0m\n",
      "\u001b[0;32m~/anaconda3/envs/tensorflow_p36/lib/python3.6/site-packages/tensorflow/python/client/session.py\u001b[0m in \u001b[0;36m_run_fn\u001b[0;34m(session, feed_dict, fetch_list, target_list, options, run_metadata)\u001b[0m\n\u001b[1;32m   1300\u001b[0m           return tf_session.TF_Run(session, options,\n\u001b[1;32m   1301\u001b[0m                                    \u001b[0mfeed_dict\u001b[0m\u001b[0;34m,\u001b[0m \u001b[0mfetch_list\u001b[0m\u001b[0;34m,\u001b[0m \u001b[0mtarget_list\u001b[0m\u001b[0;34m,\u001b[0m\u001b[0;34m\u001b[0m\u001b[0m\n\u001b[0;32m-> 1302\u001b[0;31m                                    status, run_metadata)\n\u001b[0m\u001b[1;32m   1303\u001b[0m \u001b[0;34m\u001b[0m\u001b[0m\n\u001b[1;32m   1304\u001b[0m     \u001b[0;32mdef\u001b[0m \u001b[0m_prun_fn\u001b[0m\u001b[0;34m(\u001b[0m\u001b[0msession\u001b[0m\u001b[0;34m,\u001b[0m \u001b[0mhandle\u001b[0m\u001b[0;34m,\u001b[0m \u001b[0mfeed_dict\u001b[0m\u001b[0;34m,\u001b[0m \u001b[0mfetch_list\u001b[0m\u001b[0;34m)\u001b[0m\u001b[0;34m:\u001b[0m\u001b[0;34m\u001b[0m\u001b[0m\n",
      "\u001b[0;31mKeyboardInterrupt\u001b[0m: "
     ]
    }
   ],
   "source": [
    "model = rnn_model()\n",
    "model.fit(Xtrain, ytrain, validation_data=(Xvalid, yvalid), nb_epoch=10, batch_size=512)"
   ]
  },
  {
   "cell_type": "code",
   "execution_count": 116,
   "metadata": {},
   "outputs": [],
   "source": [
    "example = (\"\"\"Why Some Rappers Just Aren't Good Live True fact: lots of successful rappers don't need a great live show to get where they are. Let them live! Danny Brown, who is a good live rapper, performs live.It doesn't take long for the average person to develop a healthy skepticism of rap shows. Aside from the usual live venue problems (guest list confusion, aggro bouncers, expensive drinks), rap has its own special set of bullshit. There are too many opening acts, a rotating list of five local struggle rappers who never graduate to headliner status. There are too many people and it's always mostly dudes who often feel a way about you breathing their air. The shows run hours behind schedule. If you make it that far, the headliner is often not very good. If they even know all their lyrics, they're spitting them on top of their own recorded vocals.It's that last sin, rappers not really even rapping, that seems to offend the most. And it's not just dillettante hip-hop fans who complain; it's something I hear all the time as a reason why my friends don't want to go see a rapper whose music they love perform their songs in real life. It's less of a concert and more of a spectacle.So why does this happen? Why do some rappers seem to phone in their live shows? It's not like live hip-hop is dead. After all, active showmen like Action Bronson and Danny Brown have clearly benefitted from the work they put into their stage presence. Why don't all rappers do the same thing? The short answer is you can become a famous rapper without doing very many shows, per se.The assumed path to success for musicians today involves recording music, booking to play your music and building a fan base that will buy your music and see your shows. Increasingly, convincing brand managers that your music will sell products, but that's part of the same performance-heavy equation. And this is proven method across genres: rock, country, disco and, yeah, even rap.But rappers often take an alternate path, one that relies way less on stagework. Instead of recording an album and hustling a live show, they pick one song and push it to as many DJ's as they can. If the record is good, it gets added to the rotation on the local radio station and in the clubs around the way. And if the record is really good (and if they have good people behind you), it will get added to more stations and played at more clubs, further and further from the local market.As the single gets momentum and their name gets out there, promoters far and wide will book them to perform at clubs. But this isn't a full show, it's a quick set at a club based around a hit record. If the song is really popular, the artist's presence is just gravy. Everybody will know all the words and the club would have gone off whether or not they were there. Nobody's worried about the rapper nailing the hook.A rapper with a big single can make an insane amount of money doing club sets. Rappers are fitting into a nightlife culture that relies on paying a diverse range of celebrities to show up as a way to entice people to come out; they can earn their money just by being in the building. And everything resembling a metropolitan area has a nightlife destination where a rapper might get booked if their record is getting spins. There are way fewer ideal places for full-fledged rap shows, and that number gets smaller after factoring in many venues' inherent biases against hip-hop events. An artist that can get a stack for a club appearance in, say, Albany, GA is not stressed about their stage presence and breath control.All this said, should we even expect old school showmanship and rappin-ass rappin from these dudes? If the music makes a mob of excited people jump up and down and yell lyrics at each other, that's not a bad thing (nor is it a new concept).But that's the reason why some successful emcees don't have great live shows: they never needed one to get where they are.Skinny Friedman has unmatchable stage presence when he blogs. He's on Twitter - @skinny412\"\"\", 'rap')\n",
    "\n",
    "ex2 = (\"\"\"‘Black-ish’ Addressed Postpartum Depression Better Than My Doctor It’s the PSA of my goddamn dreams. At the height of my postpartum depression and anxiety, I had been to the emergency room twice for palpitations I perceived to be a heart attack. I also had an MRI for migraines I was convinced were the result of a tumor. I often lay awake watching my daughter's monitor for hands that would snatch her from her crib. I called my dentist after hours and pushed for her to assure me my tooth pain was not an infection that would spread to my brain. Most nights before turning out the lights I asked my husband Dan to assure me I wouldn't die in my sleep. On one particular evening, I was lying in bed with my legs against our headboard, trying to take the pressure off of an ache in my calf that I was pretty sure was a blood clot slowly making its way to my lungs. Dan slid into bed and I turned my head to him, panicked tears already rolling down my face. 'Do you think…?' Before I finished he said, 'Yes, I will see you in the morning. I promise.' He caught my eye and we both started laughing. It wasn't exactly funny, but even in the midst of my very real distress, I knew my thought patterns weren't typical. Sometimes finding humor in it made it feel less overwhelming. Tracee Ellis Ross reinforced that in last night's episode of  Black-ish when her character Rainbow ('Bow') and her husband, Dre (played by Anthony Johnson), take a quiz about postpartum depression. Dre reads the first question: 'Do you feel sad, hopeless, overwhelmed, empty?' Through tears, Bow responds: 'Ah…well, I feel sad and I feel hopeless and I feel overwhelmed, but I don't feel empty, so I guess it's a no for me.' It's a moment of comic relief in the scene—while Rainbow is clearly depressed, this moment pokes fun at her just falling short of being the total package of PPD misery. 'I think that comedy can help us shine a light on important mental health issues, when it is done responsibly,' says Mike Fraser, a psychologist chief of staff at Behavioral Associates in New York. 'Comedy that aims for the easy laugh by poking fun at people struggling with real mental health issues obviously doesn't help. But if it can bring exposure to issues that millions of people battle—often in isolation—comedy can open the door for people to get an important conversation going and possibly even reach out for help.'  Watch this from Tonic:As Dan and I watched the episode, we were both especially struck by a scene in which Dre and Bow visit a doctor about her perceived condition. They discuss Bow's symptoms—anxiety, insomnia, crying and constant insecurity—and the doctor assures her they are not only normal, but treatable. Bow represents a huge number of women when she tells the doctor, 'I can get through this, I don't want medication.' Her doctor replies, 'postpartum depression is a mood disorder—it's not just something you can power through—and it's not something you should be ashamed of.'  It's the postpartum PSA of my goddamn dreams—one I wish they would play in place of the over simplified, condescending crap most women hear before exiting the hospital with a new baby. Dan points out that the scene represents a support system some women will never see in real life. And I knew he was right: My own experience with a doctor who listened to my symptoms and then put her hands on my knees and told me to go for a brisk walk was proof enough. Even though I had dealt with depression and anxiety for most of my adult life, her patronization made me second guess what I knew to be facts. Lucky for me, by the time I made it to the car my support system (hi mom) was on other end of the phone while I screamed, 'Fuck that lady!' I knew that exercise couldn't 'cure' what science has shown to be chemical. But I was pissed for the people who would accept her words as truth. Hours of therapy and one daily dose of Lexapro later, I still struggle with bouts of depression and many of my impulses from those early days of motherhood have hung around. But each night when Dan locks the front door and I walk over to touch it—a habit rooted in obsessive compulsive tendencies—we both laugh. 'I know, I know,' I say, smiling as I reach out my hand. It's a necessary ritual for me to feel at ease, but the lightness we sometimes inject into it makes it feel less clinical. And that's what  Black-ish offers its viewers when Dre cozies up next to Bow on the couch and rattles off questions from a women's magazine quiz, giving her props on her near perfect score (and while that equates to depressed as hell, Bow is never one to bomb a quiz of any type). There were some scenes that were a little too neatly tied up, particularly one where Bow's mother-in-law Ruby apologizes for her vast misconceptions about PPD (which included comments like, 'I didn't go to some quack doctor because I was mentally ill with some made up disease'). The turnaround between her blatant ignorance and acceptance is a bit quick and, sadly, unrealistic, but it sticks with the show's intent of bringing a serious issue to an accessible 30-minute comedic platform. After all, I realized, most people don't discuss mental health on the regular as we do in our household. Shows like  Black-ish might be the open door they've been needing to walk through.Read This Next: Chrissy Teigen, Postpartum Depression, and Trump\"\"\", 'depression')"
   ]
  },
  {
   "cell_type": "code",
   "execution_count": 159,
   "metadata": {},
   "outputs": [],
   "source": [
    "# tokenizer.fit_on_texts([example[0]])\n",
    "sequences = Tokenizer.texts_to_sequences(tok, [ex2[0]])\n",
    "inp = pad_sequences(sequences, maxlen=max_seq_len)"
   ]
  },
  {
   "cell_type": "code",
   "execution_count": 160,
   "metadata": {},
   "outputs": [],
   "source": [
    "preds = model.predict(inp)"
   ]
  },
  {
   "cell_type": "code",
   "execution_count": null,
   "metadata": {},
   "outputs": [],
   "source": [
    "model.save('./model/topic_model.h5')  # creates a HDF5 file 'my_model.h5'\n",
    "# del model"
   ]
  },
  {
   "cell_type": "code",
   "execution_count": 27,
   "metadata": {},
   "outputs": [],
   "source": [
    "import tensorflow as tf\n",
    "tf.reset_default_graph()"
   ]
  },
  {
   "cell_type": "code",
   "execution_count": 29,
   "metadata": {},
   "outputs": [
    {
     "data": {
      "text/plain": [
       "943955"
      ]
     },
     "execution_count": 29,
     "metadata": {},
     "output_type": "execute_result"
    }
   ],
   "source": [
    "len(word_index)"
   ]
  },
  {
   "cell_type": "code",
   "execution_count": 30,
   "metadata": {},
   "outputs": [
    {
     "data": {
      "text/plain": [
       "50000"
      ]
     },
     "execution_count": 30,
     "metadata": {},
     "output_type": "execute_result"
    }
   ],
   "source": [
    "nb_words"
   ]
  },
  {
   "cell_type": "code",
   "execution_count": null,
   "metadata": {},
   "outputs": [],
   "source": []
  }
 ],
 "metadata": {
  "kernelspec": {
   "display_name": "conda_tensorflow_p36",
   "language": "python",
   "name": "conda_tensorflow_p36"
  },
  "language_info": {
   "codemirror_mode": {
    "name": "ipython",
    "version": 3
   },
   "file_extension": ".py",
   "mimetype": "text/x-python",
   "name": "python",
   "nbconvert_exporter": "python",
   "pygments_lexer": "ipython3",
   "version": "3.6.4"
  }
 },
 "nbformat": 4,
 "nbformat_minor": 1
}
